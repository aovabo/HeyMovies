{
  "nbformat": 4,
  "nbformat_minor": 0,
  "metadata": {
    "colab": {
      "provenance": [],
      "authorship_tag": "ABX9TyMiuLg703S9jD48LzBPkWY2",
      "include_colab_link": true
    },
    "kernelspec": {
      "name": "python3",
      "display_name": "Python 3"
    },
    "language_info": {
      "name": "python"
    }
  },
  "cells": [
    {
      "cell_type": "markdown",
      "metadata": {
        "id": "view-in-github",
        "colab_type": "text"
      },
      "source": [
        "<a href=\"https://colab.research.google.com/github/aovabo/HeyMovies/blob/main/Evaluation_Report_and__Error_Taxonomy.ipynb\" target=\"_parent\"><img src=\"https://colab.research.google.com/assets/colab-badge.svg\" alt=\"Open In Colab\"/></a>"
      ]
    },
    {
      "cell_type": "code",
      "execution_count": null,
      "metadata": {
        "id": "AG8qEj1i8liz"
      },
      "outputs": [],
      "source": []
    },
    {
      "cell_type": "markdown",
      "source": [
        "My response to [Mercor Model Interpretability Analyst Trial](https://docs.google.com/forms/d/e/1FAIpQLSf2eKgnVRoX5imRmhC6y8ZExbJFlBJgnrQubl7ED4JYA58-bw/viewform)\n",
        "\n",
        "\n",
        "\n",
        "# **Model vs. Human Performance**\n",
        "\n",
        "***Here are some of the key things the model missed when deciding Candidate B would be better than Candidate A from my observation after watching the videos and going through the materials.***\n",
        "\n",
        "**Observation 1:** The model underestimated Candidate A's \"Basic Tech Literacy\" and Problem-Solving abilities in the context of this specific task.\n",
        "\n",
        "**What Candidate A said:** When discussing his Amazon work in his work experience, he says, \"Reduced turnaround times for customer issues by 95% by creating feedback loop between sales, product, and engineering. Wrote technical and non-technical communications to specify requirements and then educate internal and external partners.\" This demonstrates his ability to learn tools, troubleshoot, and communicate technical information. It suggests an ability to quickly grasp new browser-based annotation tools and debug potential issues, such as a browser based annotation tool that is unreliable\n",
        "\n",
        "What Candidate B said: While she mentions various tools, her experience seems more focused on using tools than on troubleshooting or adapting to them. There isn't a statement about how she might respond to new tools such as the Firefox Annotation Tool and Airtable.\n",
        "\n",
        "**Why this matters**: This task requires familiarity with web interfaces and troubleshooting skills. While both candidates have some tech experience, Candidate A's background suggests a stronger aptitude for quickly grasping new browser-based annotation tools and debugging potential issues.\n",
        "\n",
        "**Observation 2:** The model didn't fully assess Candidate A's \"Creative Writing\" skills (or lack thereof in Candidate B) in relation to the need for clear, concise, and varied summaries.\n",
        "\n",
        "**What Candidate A said**: He mentions \"creating technical documentation, making several different review meetings of the documents I wrote, with leaders, directors, and VPs across different, countries. I was able to, get enough funding to develop the product, which I, launched.\" This shows he can clearly articulate his ideas for different audiences in written format.\n",
        "\n",
        "**What Candidate B said**: While Candidate B communicates effectively, there's no specific mention of writing detailed summaries or adapting communication styles for technical documentation.\n",
        "\n",
        "**Why this matters**: The task requires writing clear, concise, and well-structured summaries of actions and observations. Candidate A's experience in creating technical documentation and communicating complex ideas suggests a stronger ability to meet this requirement.\n",
        "\n",
        "**Observation 3:** The model overlooked indicators of \"Drive\" and a \"Methodical Approach\" in Candidate A's background.\n",
        "\n",
        "**What Candidate A wrote in his work experience:** His Amazon experience demonstrates a methodical approach to problem-solving and a drive to improve processes: \"Managed backlog prioritization, technical roadmap, and requirements through the FBA lifecycle in inventory and supply chain. Resolved largest cause of seller attrition by leading root-cause analysis, legal and tech approvals, and final solution release.\"\n",
        "\n",
        "**What Candidate B said:** Candidate B's work experience suggests a diverse range of experiences, but it's harder to gauge her ability to maintain focus and attention to detail through repetitive tasks, such as taking screenshots of browser actions and writing summaries.\n",
        "\n",
        "**Why this matters:** The task involves repetitive actions and consistent attention to detail. A methodical and patient approach is necessary to ensure quality throughout the process. Candidate A's Amazon experience suggests a stronger fit for this requirement.\n",
        "\n",
        "**Observation 4:** The model did not see any \"Willingness to Ask Questions\"\n",
        "\n",
        "**What Candidate A said:** He asks the interviewer to repeat questions: \"Can can you say that question again, please?\".\n",
        "\n",
        "**What Candidate B said:** She asks the interviewer to repeat questions: \"What was the second part of the question again?\".\n",
        "\n",
        "**Why this matters:** It's good that both candidates feel comfortable asking for clarification when unclear.\n",
        "\n",
        "**Observation 5:** The model failed to appreciate how Candidate A's experience with \"Problem Solving\" would work for this role.\n",
        "\n",
        "**What Candidate A said**: He discusses the importance of his skills: \"Even for me to be able to, find data on my own without having to request additional help from data analysts and data data scientists. I was able because of my knowledge of SQL and other technologies, I was able to find the information about users and how the project was going, create alarms by myself, which has been really helpful for the efficiency of my team.\" This demonstrates that he will work diligently to come up with a solution.\n",
        "\n",
        "**What Candidate B said:** Candidate B's resume is a lot of \"consulting\", which demonstrates her experience is a mile wide and an inch deep.\n",
        "\n",
        "**Why this matters:** Given that the role is to interpret model findings, the candidate must be able to provide critical insights and problem solve when there are issues.\n",
        "\n",
        "**Observation 6:** The model may be undervaluing Candidate A's experience due to a potential bias in interpreting communication styles, potentially misinterpreting his communication due to his accent and English not being his first language.\n",
        "\n",
        "**What Candidate A said:** Candidate A has experience in technical fields, building and designing various technologies.\n",
        "\n",
        "**What Candidate B said:** Candidate B, on the other hand, has worked as a consultant, which may not demonstrate as much insight in building a product from scratch.\n",
        "\n",
        "**Why this matters:** Most frontier AI models are trained on datasets that primarily reflect native English speakers or certain communication styles. This could lead to the model undervaluing the contributions of individuals with diverse linguistic backgrounds, even if their ideas and experiences are highly relevant.\n",
        "\n",
        "# **Error Taxonomy**\n",
        "\n",
        "***Here are some of the common types of errors the model is making when judging who will be the better candidate, given the specific task requirements:***\n",
        "\n",
        "**Error 1:** Misinterpreting \"Tech Literacy\" Broadly: The model equates general tech experience with the specific tech literacy required for this task, like the ability to quickly learn new web-based tools and troubleshoot browser-related issues.\n",
        "\n",
        "**Example:** Assuming that Candidate B's use of various data analysis tools automatically translates to competence with the Firefox Annotation Tool and AirTable.\n",
        "\n",
        "**Error 2:** Not Assessing \"Creative Writing\" Skills Appropriately: The model may be focusing on communication skills in general, rather than assessing the ability to write clear, concise, and varied summaries of actions and observations, as required for this task.\n",
        "\n",
        "**Example:** Not differentiating between a candidate's ability to present data and their ability to write detailed, grammatically correct descriptions of web-based actions.\n",
        "\n",
        "**Error 3:** Failing to Gauge \"Drive\" and \"Methodical Approach\": The model doesn't effectively evaluate a candidate's ability to maintain focus and attention to detail through repetitive tasks, which is crucial for this task.\n",
        "\n",
        "**Example:** Not considering a candidate's past experiences that demonstrate a methodical approach, patience, and a willingness to persevere through repetitive actions.\n",
        "\n",
        "**Error 4:** The model ignores \"Willingness to Ask Questions\"\n",
        "\n",
        "**Example: **Overlooking instances in which the candidates asked for clarification when given prompts or instructions.\n",
        "\n",
        "**Error 5: **Not weighing the full picture and considering Problem Solving skills\n",
        "\n",
        "**Example:** Discounting experiences in which candidates overcame technical challenges or developed work arounds due to the \"creative\" aspect of solving technical issues.\n",
        "\n",
        "**Error 6:** The model exhibits a bias in interpreting communication styles, potentially undervaluing the contributions of individuals with diverse linguistic backgrounds or accents.\n",
        "\n",
        "**Example:** The model might penalize Candidate A for using slightly different phrasing or sentence structures, even if their ideas are clear, well-reasoned, and relevant to the task requirements.\n",
        "\n",
        "**Mitigation: Train the model on a more diverse dataset that includes examples of communication from individuals with a wide range of linguistic backgrounds. Develop strategies to normalize communication styles and focus on the content of the message, rather than the delivery.**"
      ],
      "metadata": {
        "id": "46eBkg0Q8l8t"
      }
    }
  ]
}